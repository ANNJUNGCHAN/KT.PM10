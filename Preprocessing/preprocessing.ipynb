{
 "cells": [
  {
   "cell_type": "markdown",
   "metadata": {},
   "source": [
    "# Preprocessing\n",
    "- 데이터를 전처리하는 모든 과정을 담았다.\n",
    "- 모든 전처리과정은 함수로 구성하여 공유하기 용이하도록 하였다."
   ]
  },
  {
   "cell_type": "markdown",
   "metadata": {},
   "source": [
    "### 패키지 로딩"
   ]
  },
  {
   "cell_type": "code",
   "execution_count": 27,
   "metadata": {},
   "outputs": [],
   "source": [
    "import pandas as pd\n",
    "import numpy as np\n",
    "import matplotlib.pyplot as plt\n",
    "plt.rc('font', family = 'Malgun Gothic')"
   ]
  },
  {
   "cell_type": "markdown",
   "metadata": {},
   "source": [
    "### 데이터 로딩"
   ]
  },
  {
   "cell_type": "code",
   "execution_count": 28,
   "metadata": {},
   "outputs": [],
   "source": [
    "air_train = pd.read_csv('C:/dust/data/air_2021.csv')\n",
    "weather_train = pd.read_csv('C:/dust/data/weather_2021.csv',encoding = 'cp949')\n",
    "sunrise_sunset_train = pd.read_csv(\"C:/dust/preprocessing/sunrise_sunset_2021.csv\")\n",
    "\n",
    "air_test = pd.read_csv('C:/dust/data/air_2022.csv')\n",
    "weather_test = pd.read_csv('C:/dust/data/weather_2022.csv',encoding = 'cp949')\n",
    "sunrise_sunset_test = pd.read_csv(\"C:/dust/preprocessing/sunrise_sunset_test.csv\")"
   ]
  },
  {
   "cell_type": "markdown",
   "metadata": {},
   "source": [
    "### 공기질 데이터 전처리 함수 구축"
   ]
  },
  {
   "cell_type": "code",
   "execution_count": 29,
   "metadata": {},
   "outputs": [],
   "source": [
    "def make_air_dataset(air) :\n",
    "    air = air.drop(columns = [\"Unnamed: 0\"])\n",
    "    air[\"측정일시\"] = air[\"측정일시\"].astype(str) + \"00\"\n",
    "    pat = '(?P<year>\\d{4})(?P<month>\\d{2})(?P<day>\\d{2})(?P<hour>\\d{2})(?P<minute>\\d{2})'\n",
    "    air[\"측정일시\"] = pd.to_datetime(air[\"측정일시\"].str.extract(pat, expand=True))\n",
    "    air = air.drop(columns = [\"지역\",\"망\",\"측정소코드\",\"측정소명\",\"주소\"])\n",
    "    air.rename(columns = {\"측정일시\" : \"datetime\"}, inplace = True)\n",
    "    return air"
   ]
  },
  {
   "cell_type": "markdown",
   "metadata": {},
   "source": [
    "### 일출, 일몰시간 데이터 전처리 함수 구축"
   ]
  },
  {
   "cell_type": "code",
   "execution_count": 30,
   "metadata": {},
   "outputs": [],
   "source": [
    "def rise_set_clean(sunrise_sunset) :\n",
    "    sunrise_sunset['sunrise'] = sunrise_sunset['sunrise'].astype(str).str.slice(start =0, stop = 1)\n",
    "    sunrise_sunset['sunset'] = sunrise_sunset['sunset'].astype(str).str.slice(start =0, stop = 2).astype(int) + 1\n",
    "    sunrise_sunset[\"date\"] = sunrise_sunset[\"date\"].astype(str)\n",
    "    sunrise_sunset[\"date\"] = sunrise_sunset[\"date\"].str.slice(0,4) + \"-\" + sunrise_sunset[\"date\"].str.slice(4,6) + \"-\" + sunrise_sunset[\"date\"].str.slice(6,8)\n",
    "    sunrise_sunset[\"date\"] = pd.to_datetime(sunrise_sunset[\"date\"]).astype(str)\n",
    "    sunrise_sunset['sunrise'] = sunrise_sunset['sunrise'].astype(int)\n",
    "    sunrise_sunset['sunset'] = sunrise_sunset['sunset'].astype(int)\n",
    "    return sunrise_sunset"
   ]
  },
  {
   "cell_type": "markdown",
   "metadata": {},
   "source": [
    "### 날씨 데이터 전처리 함수 구축"
   ]
  },
  {
   "cell_type": "code",
   "execution_count": 31,
   "metadata": {},
   "outputs": [],
   "source": [
    "def weather_clean(weather, sunrise_sunset) :\n",
    "    weather[\"일시\"] = pd.to_datetime(weather[\"일시\"])\n",
    "    for i in weather.columns :\n",
    "        if \"QC\" in i :\n",
    "            weather = weather.drop(columns = [i])\n",
    "    weather = weather.drop(columns = [\"지점\",\"지점명\",\"지면상태(지면상태코드)\",\"현상번호(국내식)\",\"운형(운형약어)\",\"최저운고(100m )\"])\n",
    "    weather[\"date\"] = weather[\"일시\"].dt.date.astype(str)\n",
    "    weather = pd.merge(weather, sunrise_sunset, on = \"date\", how = \"left\")\n",
    "    weather[\"시각\"] = weather[\"일시\"].dt.hour.astype(int)\n",
    "    weather[\"일조(hr)\"] = np.where(weather[\"시각\"].between(weather[\"sunrise\"], weather[\"sunset\"]),weather[\"일조(hr)\"], 0)\n",
    "    weather[\"일사(MJ/m2)\"] = np.where(weather[\"시각\"].between(weather[\"sunrise\"], weather[\"sunset\"]),weather[\"일사(MJ/m2)\"], 0)\n",
    "    weather[\"강수량(mm)\"] = weather[\"강수량(mm)\"].fillna(0)\n",
    "    weather[\"적설(cm)\"] = weather[\"적설(cm)\"].fillna(0)\n",
    "    weather[\"3시간신적설(cm)\"] = weather[\"3시간신적설(cm)\"].fillna(0)\n",
    "    weather = weather.fillna(method = \"ffill\")\n",
    "    weather = weather.drop(columns = ['date', 'sunrise', 'sunset', '시각'])\n",
    "    weather.rename(columns = {\"일시\" : \"datetime\"}, inplace = True)\n",
    "    return weather"
   ]
  },
  {
   "cell_type": "markdown",
   "metadata": {},
   "source": [
    "### 전처리 적용"
   ]
  },
  {
   "cell_type": "code",
   "execution_count": 32,
   "metadata": {},
   "outputs": [],
   "source": [
    "air_train = make_air_dataset(air_train)\n",
    "air_test = make_air_dataset(air_test)\n",
    "\n",
    "sunrise_sunset_train = rise_set_clean(sunrise_sunset_train)\n",
    "sunrise_sunset_test = rise_set_clean(sunrise_sunset_test)\n",
    "\n",
    "weather_train = weather_clean(weather_train, sunrise_sunset_train)\n",
    "weather_test = weather_clean(weather_test, sunrise_sunset_test)"
   ]
  },
  {
   "cell_type": "markdown",
   "metadata": {},
   "source": [
    "### 분석 목적에 맞는 데이터 병합"
   ]
  },
  {
   "cell_type": "code",
   "execution_count": 33,
   "metadata": {},
   "outputs": [],
   "source": [
    "train = pd.merge(air_train,weather_train,how = \"inner\", on = \"datetime\")\n",
    "test  = pd.merge(air_test,weather_test,how = \"inner\", on = \"datetime\")"
   ]
  },
  {
   "cell_type": "markdown",
   "metadata": {},
   "source": [
    "### 데이터 저장"
   ]
  },
  {
   "cell_type": "code",
   "execution_count": 34,
   "metadata": {},
   "outputs": [],
   "source": [
    "train.to_csv(\"train.csv\")\n",
    "test.to_csv(\"test.csv\")"
   ]
  }
 ],
 "metadata": {
  "kernelspec": {
   "display_name": "Python 3.9.12 ('env')",
   "language": "python",
   "name": "python3"
  },
  "language_info": {
   "codemirror_mode": {
    "name": "ipython",
    "version": 3
   },
   "file_extension": ".py",
   "mimetype": "text/x-python",
   "name": "python",
   "nbconvert_exporter": "python",
   "pygments_lexer": "ipython3",
   "version": "3.9.12"
  },
  "orig_nbformat": 4,
  "vscode": {
   "interpreter": {
    "hash": "c8c8540e0960871b600e3f40e1e37dd4369b4892e9ee484b4784a47d7408b04b"
   }
  }
 },
 "nbformat": 4,
 "nbformat_minor": 2
}
