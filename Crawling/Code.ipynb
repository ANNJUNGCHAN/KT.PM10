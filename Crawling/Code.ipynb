{
 "cells": [
  {
   "cell_type": "markdown",
   "metadata": {},
   "source": [
    "# 일출, 일몰 데이터 크롤링\n",
    "- 일조량과 일사량 데이터의 결측치를 처리하기 위해서는, 해가 뜨는 일출시간과 해가 지는 일몰시간을 알아야한다.\n",
    "- 일출시간과 일몰시간을 알지 못하면, 일조량과 일사량 데이터에서 해당 데이터가 일조량과 일사량이 없어서 결측치가 발생한 것인지, 관측을 하지 못해서 결측치가 발생한 것인지를 알 수 없게 된다.\n",
    "- 그러므로, 일출시간과 일몰시간을 참조하여 일조량과 일사량의 데이터의 결측치를 처리해야 한다.\n",
    "- 일출시간과 일몰시간 데이터는 한국천문연구원의 출몰시각 정보 API를 크롤링하여 가져왔다.\n",
    "- 해당문서는 한국천문연구원의 출몰시각 정보 API를 크롤링하는 절차에 대해서 다룬다."
   ]
  },
  {
   "cell_type": "markdown",
   "metadata": {},
   "source": [
    "### 패키지로딩"
   ]
  },
  {
   "cell_type": "code",
   "execution_count": 1,
   "metadata": {},
   "outputs": [],
   "source": [
    "### Crawling\n",
    "import requests\n",
    "from bs4 import BeautifulSoup\n",
    "\n",
    "### Data Handling\n",
    "import pandas as pd"
   ]
  },
  {
   "cell_type": "markdown",
   "metadata": {},
   "source": [
    "### 크롤링에 필요한 날짜 데이터 로딩\n",
    "- 우리가 분석하려는 데이터의 시간범위만큼 크롤링을 진행해야 될 것이다.\n",
    "- 그러므로, 분석하려는 데이터의 일시를 가져와서 리스트형태로 저장한다."
   ]
  },
  {
   "cell_type": "code",
   "execution_count": 2,
   "metadata": {},
   "outputs": [],
   "source": [
    "datelist = pd.read_csv(\"C:/dust/preprocessing/2022_datelist.csv\")\n",
    "datelist = datelist[\"일시\"].astype(str).unique().tolist()"
   ]
  },
  {
   "cell_type": "markdown",
   "metadata": {},
   "source": [
    "### API 요청 함수 생성\n",
    "- 서울의 일출, 일몰시간 데이터를 끌고오기 위해 API 서버에 요청한다.\n",
    "- GET방식으로 크롤링이 가능하다."
   ]
  },
  {
   "cell_type": "code",
   "execution_count": 3,
   "metadata": {},
   "outputs": [],
   "source": [
    "import requests\n",
    "def weather(date):\n",
    "    url = 'http://apis.data.go.kr/B090041/openapi/service/RiseSetInfoService/getAreaRiseSetInfo'\n",
    "    params ={\n",
    "        'serviceKey' :\"gcVGIzO9n58fC27nANUcTmbfzNXTt93wnEIn/0rLgOiW43nsH213u8dz2JOyvgS1iPxeAi3L69eseRiNQOPMJA==\",\n",
    "        'location' : '서울', \n",
    "        'locdate' : {date} \n",
    "        }\n",
    "    res = requests.get(url, params=params)\n",
    "    return res.text"
   ]
  },
  {
   "cell_type": "markdown",
   "metadata": {},
   "source": [
    "### 크롤링 데이터 정제 함수 생성"
   ]
  },
  {
   "cell_type": "code",
   "execution_count": 4,
   "metadata": {},
   "outputs": [],
   "source": [
    "def get_weather(date):\n",
    "    soup = BeautifulSoup(weather(date))\n",
    "    sunrise = int(soup.find('sunrise').text)\n",
    "    sunset = int(soup.find('sunset').text)\n",
    "    return sunrise, sunset"
   ]
  },
  {
   "cell_type": "markdown",
   "metadata": {},
   "source": [
    "### 데이터 크롤링 및 저장"
   ]
  },
  {
   "cell_type": "code",
   "execution_count": 5,
   "metadata": {},
   "outputs": [
    {
     "name": "stderr",
     "output_type": "stream",
     "text": [
      "c:\\Users\\user\\miniconda3\\envs\\env\\lib\\site-packages\\bs4\\builder\\__init__.py:545: XMLParsedAsHTMLWarning: It looks like you're parsing an XML document using an HTML parser. If this really is an HTML document (maybe it's XHTML?), you can ignore or filter this warning. If it's XML, you should know that using an XML parser will be more reliable. To parse this document as XML, make sure you have the lxml package installed, and pass the keyword argument `features=\"xml\"` into the BeautifulSoup constructor.\n",
      "  warnings.warn(\n"
     ]
    }
   ],
   "source": [
    "all_sunrise = []\n",
    "all_sunset = []\n",
    "for i in datelist :\n",
    "    sunrise, sunset = get_weather(i)\n",
    "    all_sunrise.append(sunrise)\n",
    "    all_sunset.append(sunset)\n",
    "    \n",
    "pd.DataFrame({\"date\":datelist, \"sunrise\":all_sunrise, \"sunset\":all_sunset}).to_csv(\"sunrise_sunset_test.csv\", index=False)"
   ]
  }
 ],
 "metadata": {
  "kernelspec": {
   "display_name": "Python 3.9.12 ('env': conda)",
   "language": "python",
   "name": "python3"
  },
  "language_info": {
   "codemirror_mode": {
    "name": "ipython",
    "version": 3
   },
   "file_extension": ".py",
   "mimetype": "text/x-python",
   "name": "python",
   "nbconvert_exporter": "python",
   "pygments_lexer": "ipython3",
   "version": "3.9.12"
  },
  "orig_nbformat": 4,
  "vscode": {
   "interpreter": {
    "hash": "c8c8540e0960871b600e3f40e1e37dd4369b4892e9ee484b4784a47d7408b04b"
   }
  }
 },
 "nbformat": 4,
 "nbformat_minor": 2
}
